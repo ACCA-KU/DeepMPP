{
 "cells": [
  {
   "cell_type": "code",
   "execution_count": null,
   "id": "4f5689a4-5d2a-406a-aa3c-a7c95a7afd79",
   "metadata": {},
   "outputs": [],
   "source": [
    "from D4CMPP import Analyzer"
   ]
  },
  {
   "cell_type": "code",
   "execution_count": null,
   "id": "057492a5-dbd2-43b9-b905-2676f6df3d25",
   "metadata": {},
   "outputs": [],
   "source": [
    "# load the directory of trained model\n",
    "ma=Analyzer.MolAnalyzer(\"./assets/models/GCN_model_Aqsoldb_Solubility_20240101_000000\")"
   ]
  },
  {
   "cell_type": "code",
   "execution_count": null,
   "id": "27f7b0b8-0acd-406d-9f73-b69aedfa5355",
   "metadata": {},
   "outputs": [],
   "source": [
    "# predict the property of a molecule\n",
    "ma.predict(\"CCCCCC\")"
   ]
  }
 ],
 "metadata": {
  "kernelspec": {
   "display_name": "D4CMPP-kernel",
   "language": "python",
   "name": "d4cmpp"
  },
  "language_info": {
   "codemirror_mode": {
    "name": "ipython",
    "version": 3
   },
   "file_extension": ".py",
   "mimetype": "text/x-python",
   "name": "python",
   "nbconvert_exporter": "python",
   "pygments_lexer": "ipython3",
   "version": "3.10.14"
  }
 },
 "nbformat": 4,
 "nbformat_minor": 5
}
