{
 "cells": [
  {
   "cell_type": "code",
   "execution_count": 9,
   "id": "fc8fb9bd-a0fc-4820-99e4-9e59aa06ef4b",
   "metadata": {},
   "outputs": [],
   "source": [
    "from D4CMPP import train # if you are working with source code, place these files on the out of D4CMPP package"
   ]
  },
  {
   "cell_type": "code",
   "execution_count": null,
   "id": "d7d1cfd8-40d4-4b35-90db-91de907e3bbb",
   "metadata": {},
   "outputs": [],
   "source": [
    "# Start to train with the sample dataset presented by D4CMPP package\n",
    "# You can find the result in the _Molels directory.\n",
    "train(network=\"GCN\", data=\"test\", target=[\"Abs\"])"
   ]
  },
  {
   "cell_type": "code",
   "execution_count": null,
   "id": "4c8e2c0f-945e-474c-bbfc-7ea44a858a36",
   "metadata": {},
   "outputs": [],
   "source": [
    "# You can use external dataset by referencing its file name.\n",
    "train(network=\"GCN\", data=\"general_test\", target=[\"Abs\"])"
   ]
  },
  {
   "cell_type": "code",
   "execution_count": null,
   "id": "aebb3e86-e5ca-427d-92cb-d8ca31eb0a36",
   "metadata": {},
   "outputs": [],
   "source": [
    "# You can declare additional arguments.\n",
    "train(\n",
    "    network=\"GCN\", data=\"test\", target=['Abs'],\n",
    "\n",
    "    # There are additional arguments for training. Check its document\n",
    "    scaler=\"minmax\", \n",
    "    optimizer=\"RMSprop\",\n",
    "    max_epoch=5000,\n",
    "    batch_size=256,\n",
    "    \n",
    "    # There are some hyperparameters for network, but this will varied by types of networks\n",
    "    hidden_dim= 128,\n",
    "    conv_layer= 4,\n",
    ")"
   ]
  },
  {
   "cell_type": "code",
   "execution_count": null,
   "id": "8e71c0fd-238f-4e4f-88f2-60c70f111fdc",
   "metadata": {},
   "outputs": [],
   "source": [
    "# You can assign the paths for the cache files and result folders.\n",
    "train(\n",
    "    network=\"GCN\", data=\"test\", target=['Abs'],\n",
    "\n",
    "    # This will assign the path for graph cache files\n",
    "    GRAPH_DIR=\"./assets/graphs\",\n",
    "\n",
    "    # This will assign the path for results\n",
    "    MODEL_DIR=\"./assets/models\"    \n",
    ")"
   ]
  },
  {
   "cell_type": "code",
   "execution_count": null,
   "id": "7e963c20-eaf2-4742-93ca-568764ae44ec",
   "metadata": {},
   "outputs": [],
   "source": [
    "# You can import your costomized network \n",
    "train(\n",
    "    # First, write network_refer.yaml for customized network\n",
    "    network=\"CustomGCN\", data=\"test\", target=['Abs'],\n",
    "\n",
    "    # Specify the network_refer.yaml file where the configuration for the customized network is defined\n",
    "    NET_REFER=\"./assets/network_refer.yaml\",\n",
    "\n",
    "    # Specify the directory path for \n",
    "    NET_DIR=\"./assets/custom_network/\"\n",
    ")"
   ]
  },
  {
   "cell_type": "code",
   "execution_count": 10,
   "id": "b6431555-ce18-45e9-903b-321d7ea58369",
   "metadata": {},
   "outputs": [
    {
     "name": "stdout",
     "output_type": "stream",
     "text": [
      "Training from scratch to /home/ufslab223/jyp/D4CMPP_test/pypi/D4CMPP/examples/general/_Models/GCN_model_Aqsoldb_Solubility_20240727_213300\n"
     ]
    },
    {
     "name": "stderr",
     "output_type": "stream",
     "text": [
      "Generating compound graphs: 100%|██████████| 9290/9290 [00:08<00:00, 1041.14it/s]\n"
     ]
    },
    {
     "name": "stdout",
     "output_type": "stream",
     "text": [
      "Train: 7360, Val: 920, Test: 921\n",
      "#params: 8625\n"
     ]
    },
    {
     "name": "stderr",
     "output_type": "stream",
     "text": [
      "Epoch 430:  22%|██▏       | 430/2000 [06:37<23:45,  1.10it/s, train_loss=0.145, val_loss=0.166]"
     ]
    },
    {
     "name": "stdout",
     "output_type": "stream",
     "text": [
      "reducing learning rate to 0.0001\n"
     ]
    },
    {
     "name": "stderr",
     "output_type": "stream",
     "text": [
      "Epoch 699:  35%|███▍      | 699/2000 [10:41<19:51,  1.09it/s, train_loss=0.126, val_loss=0.162]"
     ]
    },
    {
     "name": "stdout",
     "output_type": "stream",
     "text": [
      "reducing learning rate to 1e-05\n"
     ]
    },
    {
     "name": "stderr",
     "output_type": "stream",
     "text": [
      "Epoch 818:  41%|████      | 818/2000 [12:31<18:06,  1.09it/s, train_loss=0.124, val_loss=0.162]\n",
      "Predicting: 100%|██████████| 58/58 [00:00<00:00, 102.28it/s]\n",
      "Predicting: 100%|██████████| 8/8 [00:00<00:00, 107.33it/s]\n",
      "Predicting: 100%|██████████| 8/8 [00:00<00:00, 88.37it/s]\n"
     ]
    },
    {
     "name": "stdout",
     "output_type": "stream",
     "text": [
      "+------------+--------------------+--------------------+-------------------+\n",
      "|   target   |      train_r2      |     train_mae      |     train_rmse    |\n",
      "+------------+--------------------+--------------------+-------------------+\n",
      "| Solubility | 0.9067768231034279 | 0.5126112699508667 | 0.711479663848877 |\n",
      "+------------+--------------------+--------------------+-------------------+\n",
      "+------------+--------------------+--------------------+--------------------+\n",
      "|   target   |       val_r2       |      val_mae       |      val_rmse      |\n",
      "+------------+--------------------+--------------------+--------------------+\n",
      "| Solubility | 0.8304430842399597 | 0.6385313868522644 | 0.9338655471801758 |\n",
      "+------------+--------------------+--------------------+--------------------+\n",
      "+------------+--------------------+--------------------+-------------------+\n",
      "|   target   |      test_r2       |      test_mae      |     test_rmse     |\n",
      "+------------+--------------------+--------------------+-------------------+\n",
      "| Solubility | 0.8513181358575821 | 0.6455373764038086 | 0.904508650302887 |\n",
      "+------------+--------------------+--------------------+-------------------+\n"
     ]
    }
   ],
   "source": [
    "train(network='GCN',data='Aqsoldb',target=['Solubility'])"
   ]
  }
 ],
 "metadata": {
  "kernelspec": {
   "display_name": "D4CMPP-kernel",
   "language": "python",
   "name": "d4cmpp"
  },
  "language_info": {
   "codemirror_mode": {
    "name": "ipython",
    "version": 3
   },
   "file_extension": ".py",
   "mimetype": "text/x-python",
   "name": "python",
   "nbconvert_exporter": "python",
   "pygments_lexer": "ipython3",
   "version": "3.10.14"
  }
 },
 "nbformat": 4,
 "nbformat_minor": 5
}
