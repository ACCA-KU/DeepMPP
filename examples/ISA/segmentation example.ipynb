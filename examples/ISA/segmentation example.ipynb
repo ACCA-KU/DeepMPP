{
 "cells": [
  {
   "cell_type": "code",
   "execution_count": null,
   "id": "6554a070-26b8-4e03-a618-bdab00d6f37a",
   "metadata": {},
   "outputs": [],
   "source": [
    "from D4CMPP import Segmentator"
   ]
  },
  {
   "cell_type": "code",
   "execution_count": null,
   "id": "bab36ca1-a09d-4961-93fc-2691d6064273",
   "metadata": {
    "scrolled": true
   },
   "outputs": [],
   "source": [
    "seg= Segmentator(6,2,0)\n",
    "seg.segment(r\"OC(=O)C1=CC=C(C=C1)C1=C2\\C=CC(=N2)\\C(=C2/N\\C(\\C=C2)=C(/C2=N/C(/C=C2)=C(\\C2=CC=C\\1N2)C1=CC=C(C=C1)C(O)=O)C1=CC=C(C=C1)C(O)=O)\\C1=CC=C(C=C1)C(O)=O\",draw=True)"
   ]
  },
  {
   "cell_type": "code",
   "execution_count": null,
   "id": "ad6b9554-8c6b-4263-94f7-ef7326b74b93",
   "metadata": {},
   "outputs": [],
   "source": [
    "seg= Segmentator(9,5,6)\n",
    "seg.segment(r\"OC(=O)C1=CC=C(C=C1)C1=C2\\C=CC(=N2)\\C(=C2/N\\C(\\C=C2)=C(/C2=N/C(/C=C2)=C(\\C2=CC=C\\1N2)C1=CC=C(C=C1)C(O)=O)C1=CC=C(C=C1)C(O)=O)\\C1=CC=C(C=C1)C(O)=O\",draw=True)"
   ]
  },
  {
   "cell_type": "code",
   "execution_count": null,
   "id": "fd15c754-b505-459c-b3fa-60e8aeafdd43",
   "metadata": {},
   "outputs": [],
   "source": [
    "seg= Segmentator(6,1,0)\n",
    "seg.segment(\"COC1=CC2=C(NC=C2CCCNC(C)=O)C=C1\",draw=True)"
   ]
  },
  {
   "cell_type": "code",
   "execution_count": null,
   "id": "99c830bb-6668-48bc-81ba-ac9e1e2f2e15",
   "metadata": {},
   "outputs": [],
   "source": [
    "seg= Segmentator(6,2,1)\n",
    "seg.segment(\"COC1=CC2=C(NC=C2CCCNC(C)=O)C=C1\",draw=True)"
   ]
  },
  {
   "cell_type": "code",
   "execution_count": null,
   "id": "d329865d-5d89-44c9-bc62-b07d12020058",
   "metadata": {},
   "outputs": [],
   "source": [
    "seg= Segmentator(6,4,4)\n",
    "seg.segment(\"COC1=CC2=C(NC=C2CCCNC(C)=O)C=C1\",draw=True)"
   ]
  }
 ],
 "metadata": {
  "kernelspec": {
   "display_name": "D4CMPP3",
   "language": "python",
   "name": "d4cmpp3"
  },
  "language_info": {
   "codemirror_mode": {
    "name": "ipython",
    "version": 3
   },
   "file_extension": ".py",
   "mimetype": "text/x-python",
   "name": "python",
   "nbconvert_exporter": "python",
   "pygments_lexer": "ipython3",
   "version": "3.10.14"
  }
 },
 "nbformat": 4,
 "nbformat_minor": 5
}
