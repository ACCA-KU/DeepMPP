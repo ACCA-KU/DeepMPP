{
 "cells": [
  {
   "cell_type": "code",
   "execution_count": null,
   "id": "3464a8a5-1655-4888-b6af-9d416199b461",
   "metadata": {},
   "outputs": [],
   "source": [
    "from D4CMPP import train"
   ]
  },
  {
   "cell_type": "code",
   "execution_count": null,
   "id": "db27854b-6eba-4b39-8733-ac421f2d7a5f",
   "metadata": {},
   "outputs": [],
   "source": [
    "# network ID of ISA-PN model is \"ISATPN\", and you should specify the segmentation rule (e.g. (6,2,0) indicates s=6, c=2, a=0)\n",
    "train(network=\"ISATPN\", data= \"Aqsoldb\", target= ['Solubility'], sculptor_index=(6,2,0),\n",
    "     hidden_dim=128, conv_layers=6)"
   ]
  },
  {
   "cell_type": "code",
   "execution_count": null,
   "id": "6f9d3587-8e71-466c-87ad-112e08de8216",
   "metadata": {},
   "outputs": [],
   "source": [
    "from D4CMPP import Analyzer\n",
    "from D4CMPP import Data"
   ]
  },
  {
   "cell_type": "code",
   "execution_count": null,
   "id": "77ef199c-c892-488a-ba7f-7a1d098113a5",
   "metadata": {},
   "outputs": [],
   "source": [
    "# You can use your trained model, instead of given sample model\n",
    "ma=Analyzer.ISAAnalyzer('assets/Models/ISATPM_model_Aqsoldb_Solubility_620_20240101_000000', )"
   ]
  },
  {
   "cell_type": "code",
   "execution_count": null,
   "id": "217a0c2f-1e36-4b4e-afa2-895d866e23ee",
   "metadata": {
    "scrolled": true
   },
   "outputs": [],
   "source": [
    "# This will show you the visualization of subgroup attention scores\n",
    "ma.plot_score(\"CCCC1=CC=C(C=C1)C(O)=O\")"
   ]
  },
  {
   "cell_type": "code",
   "execution_count": null,
   "id": "0d380b40-baa0-4a49-a86e-bbf322044376",
   "metadata": {},
   "outputs": [],
   "source": [
    "# You can get the data source provided by this package with Data.get_data\n",
    "smiles = Data.get_data(\"Aqsoldb\")[\"compound\"]\n",
    "\n",
    "# This will show you the histogram of PAS and NAS\n",
    "ma.plot_subgroup_score_histogram(smiles)\n",
    "\n",
    "# This will show you the histogram of PAS and NAS for each subgroups\n",
    "ma.plot_subgroup_score_histogram_byone(smiles)"
   ]
  },
  {
   "cell_type": "code",
   "execution_count": null,
   "id": "aea2c563-b34d-4dc7-91c1-19151e26f650",
   "metadata": {},
   "outputs": [],
   "source": []
  },
  {
   "cell_type": "code",
   "execution_count": null,
   "id": "e3e5250d-3dd2-4c1d-b837-b3e298d68329",
   "metadata": {},
   "outputs": [],
   "source": []
  },
  {
   "cell_type": "code",
   "execution_count": null,
   "id": "a4e3e787-eb97-40df-b5bf-f7a54c86227f",
   "metadata": {},
   "outputs": [],
   "source": [
    "# To compare the interpretability of ISA and ISAPN,\n",
    "train(network=\"ISAT\", data= \"Aqsoldb\", target= ['Solubility'], sculptor_index=(6,2,0),\n",
    "     hidden_dim=128, conv_layers=6)"
   ]
  },
  {
   "cell_type": "code",
   "execution_count": null,
   "id": "192f6488-4d6a-44a8-b25c-2331a8cf15c5",
   "metadata": {},
   "outputs": [],
   "source": [
    "# See and compare how the attention scores without PN attention distributes \n",
    "# You can use your trained model, instead of given sample model\n",
    "ma=Analyzer.ISAAnalyzer('assets/Models/ISAT_model_Aqsoldb_Solubility_620_20240101_000000', )\n",
    "\n",
    "ma.plot_score(\"CCCC1=CC=C(C=C1)C(O)=O\")\n",
    "\n",
    "ma.plot_subgroup_score_histogram(smiles)\n",
    "\n",
    "ma.plot_subgroup_score_histogram_byone(smiles)"
   ]
  }
 ],
 "metadata": {
  "kernelspec": {
   "display_name": "D4CMPP2",
   "language": "python",
   "name": "d4cmpp2"
  },
  "language_info": {
   "codemirror_mode": {
    "name": "ipython",
    "version": 3
   },
   "file_extension": ".py",
   "mimetype": "text/x-python",
   "name": "python",
   "nbconvert_exporter": "python",
   "pygments_lexer": "ipython3",
   "version": "3.10.14"
  }
 },
 "nbformat": 4,
 "nbformat_minor": 5
}
